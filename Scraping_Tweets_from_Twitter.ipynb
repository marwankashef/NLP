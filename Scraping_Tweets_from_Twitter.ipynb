{
  "nbformat": 4,
  "nbformat_minor": 0,
  "metadata": {
    "colab": {
      "name": "Scraping Tweets from Twitter",
      "provenance": [],
      "collapsed_sections": [],
      "authorship_tag": "ABX9TyNNBjMBdmSNRT1V7wzuOitm",
      "include_colab_link": true
    },
    "kernelspec": {
      "name": "python3",
      "display_name": "Python 3"
    }
  },
  "cells": [
    {
      "cell_type": "markdown",
      "metadata": {
        "id": "view-in-github",
        "colab_type": "text"
      },
      "source": [
        "<a href=\"https://colab.research.google.com/github/marwankashef/NLP/blob/master/Scraping_Tweets_from_Twitter.ipynb\" target=\"_parent\"><img src=\"https://colab.research.google.com/assets/colab-badge.svg\" alt=\"Open In Colab\"/></a>"
      ]
    },
    {
      "cell_type": "code",
      "metadata": {
        "id": "AeVWO2T2n4s3",
        "colab_type": "code",
        "colab": {
          "base_uri": "https://localhost:8080/",
          "height": 71
        },
        "outputId": "7269ec59-5f7c-44d0-82cd-f1858c6665e7"
      },
      "source": [
        "import numpy\n",
        "import pandas as pd\n",
        "import nltk\n",
        "import spacy\n",
        "import tweepy\n",
        "import json\n",
        "import math\n",
        "import time\n",
        "\n",
        "#nltk.download('vader_lexicon')\n",
        "#!python -m spacy download en_core_web_lg\n",
        "#!python -m spacy download en_core_web_md\n",
        "\n",
        "from sklearn.metrics import accuracy_score, classification_report, confusion_matrix\n",
        "from nltk.sentiment.vader import SentimentIntensityAnalyzer\n",
        "from scipy import spatial\n",
        "from sklearn.feature_extraction.text import TfidfTransformer\n",
        "from sklearn.pipeline import Pipeline\n",
        "from sklearn import metrics\n",
        "\n",
        "from IPython.core.interactiveshell import InteractiveShell\n",
        "InteractiveShell.ast_node_interactivity = \"all\""
      ],
      "execution_count": null,
      "outputs": [
        {
          "output_type": "stream",
          "text": [
            "/usr/local/lib/python3.6/dist-packages/nltk/twitter/__init__.py:20: UserWarning: The twython library has not been installed. Some functionality from the twitter package will not be available.\n",
            "  warnings.warn(\"The twython library has not been installed. \"\n"
          ],
          "name": "stderr"
        }
      ]
    },
    {
      "cell_type": "code",
      "metadata": {
        "id": "CH_i2iUSomPZ",
        "colab_type": "code",
        "colab": {}
      },
      "source": [
        "def login():\n",
        "    # TODO: Insert your keys and tokens here\n",
        "    consumer_key  = 'gCsCBJVh15Z7blGcLGbWl3zCb'\n",
        "    consumer_secret  = 'cBOMt32b9bbhKcItvd67TPlTKhzjQaDYWXHkw4TpiLY0daJKx1'\n",
        "    access_token  = '1261725119912738819-Y3RnF4DSWrYknIsvcgbhHP6KOGrfKX'\n",
        "    access_token_secret  = 'NQkoP9OzAGl9PTHSieslZgcaHrzcxPZroIRiLjlD822WR'\n",
        "    \n",
        "    auth = tweepy.OAuthHandler(consumer_key, consumer_secret)\n",
        "    auth.set_access_token(access_token, access_token_secret)\n",
        "    api = tweepy.API(auth, wait_on_rate_limit=True)\n",
        "    \n",
        "    return api\n",
        "\n",
        "def twitter_search(api, text_query, count=100, **kw):\n",
        "  tweets = api.search(q=text_query, count=count, **kw)\n",
        "        \n",
        "  tweets_list = []\n",
        "  for tweet in tweets:\n",
        "      tweets_list.append((tweet.id, tweet.created_at,tweet.user.screen_name,tweet.text))\n",
        "        \n",
        "  df = pd.DataFrame(list(tweets_list), columns=['ID', 'Time', \"Screen Name\", \"Text\"])\n",
        "  return df"
      ],
      "execution_count": null,
      "outputs": []
    },
    {
      "cell_type": "code",
      "metadata": {
        "id": "NmAoQdS3pgpl",
        "colab_type": "code",
        "colab": {}
      },
      "source": [
        "api = login()"
      ],
      "execution_count": null,
      "outputs": []
    },
    {
      "cell_type": "code",
      "metadata": {
        "id": "5WuS8Wo9pgxv",
        "colab_type": "code",
        "colab": {
          "base_uri": "https://localhost:8080/",
          "height": 204
        },
        "outputId": "8c2bcb41-d1e6-4f7d-d591-f6f4ce1e85d4"
      },
      "source": [
        "# Put whatever you want as text query\n",
        "tweets_df = twitter_search(api, text_query=\"@Tesla\")\n",
        "tweets_df.head()"
      ],
      "execution_count": null,
      "outputs": [
        {
          "output_type": "execute_result",
          "data": {
            "text/html": [
              "<div>\n",
              "<style scoped>\n",
              "    .dataframe tbody tr th:only-of-type {\n",
              "        vertical-align: middle;\n",
              "    }\n",
              "\n",
              "    .dataframe tbody tr th {\n",
              "        vertical-align: top;\n",
              "    }\n",
              "\n",
              "    .dataframe thead th {\n",
              "        text-align: right;\n",
              "    }\n",
              "</style>\n",
              "<table border=\"1\" class=\"dataframe\">\n",
              "  <thead>\n",
              "    <tr style=\"text-align: right;\">\n",
              "      <th></th>\n",
              "      <th>ID</th>\n",
              "      <th>Time</th>\n",
              "      <th>Screen Name</th>\n",
              "      <th>Text</th>\n",
              "    </tr>\n",
              "  </thead>\n",
              "  <tbody>\n",
              "    <tr>\n",
              "      <th>0</th>\n",
              "      <td>1270773340685434882</td>\n",
              "      <td>2020-06-10 17:42:28</td>\n",
              "      <td>Mujahid1_</td>\n",
              "      <td>@Chrom_Jockstrap @ihavehugepp @juancarIosbg @L...</td>\n",
              "    </tr>\n",
              "    <tr>\n",
              "      <th>1</th>\n",
              "      <td>1270773337606758400</td>\n",
              "      <td>2020-06-10 17:42:28</td>\n",
              "      <td>hayatsmma</td>\n",
              "      <td>RT @ElonsWorld: Tesla is now officially the mo...</td>\n",
              "    </tr>\n",
              "    <tr>\n",
              "      <th>2</th>\n",
              "      <td>1270773309895032833</td>\n",
              "      <td>2020-06-10 17:42:21</td>\n",
              "      <td>Daleb678gmailc1</td>\n",
              "      <td>RT @GerberKawasaki: Dear @elonmusk and @Tesla ...</td>\n",
              "    </tr>\n",
              "    <tr>\n",
              "      <th>3</th>\n",
              "      <td>1270773261564104708</td>\n",
              "      <td>2020-06-10 17:42:10</td>\n",
              "      <td>decosta_tucker</td>\n",
              "      <td>RT @BoredEscapeGoat: @PPathole @elonmusk @Tesl...</td>\n",
              "    </tr>\n",
              "    <tr>\n",
              "      <th>4</th>\n",
              "      <td>1270773199912001536</td>\n",
              "      <td>2020-06-10 17:41:55</td>\n",
              "      <td>dissolvedB123</td>\n",
              "      <td>RT @elonmusk: @GerberKawasaki @Tesla (Formerly...</td>\n",
              "    </tr>\n",
              "  </tbody>\n",
              "</table>\n",
              "</div>"
            ],
            "text/plain": [
              "                    ID  ...                                               Text\n",
              "0  1270773340685434882  ...  @Chrom_Jockstrap @ihavehugepp @juancarIosbg @L...\n",
              "1  1270773337606758400  ...  RT @ElonsWorld: Tesla is now officially the mo...\n",
              "2  1270773309895032833  ...  RT @GerberKawasaki: Dear @elonmusk and @Tesla ...\n",
              "3  1270773261564104708  ...  RT @BoredEscapeGoat: @PPathole @elonmusk @Tesl...\n",
              "4  1270773199912001536  ...  RT @elonmusk: @GerberKawasaki @Tesla (Formerly...\n",
              "\n",
              "[5 rows x 4 columns]"
            ]
          },
          "metadata": {
            "tags": []
          },
          "execution_count": 4
        }
      ]
    },
    {
      "cell_type": "code",
      "metadata": {
        "id": "YmgdNo6gpg5o",
        "colab_type": "code",
        "colab": {
          "base_uri": "https://localhost:8080/",
          "height": 34
        },
        "outputId": "9037f86e-ac6a-4364-d62f-2f3eb6dd5f3f"
      },
      "source": [
        "all_df = pd.DataFrame(columns=['ID', 'Time', \"Screen Name\", \"Text\"])\n",
        "\n",
        "# Put whatever you want here\n",
        "text_query = '@Tesla'\n",
        "\n",
        "\n",
        "for _ in range(1): # How many times do you want to do this?\n",
        "    new_tweets = twitter_search(api, text_query, since_id=all_df.ID.max())\n",
        "        \n",
        "    print(len(new_tweets))\n",
        "    if len(new_tweets) > 0:\n",
        "        all_df = all_df.append(new_tweets, ignore_index=True)\n",
        "\n",
        "    time.sleep(0) #Sleep for 15 minutes"
      ],
      "execution_count": null,
      "outputs": [
        {
          "output_type": "stream",
          "text": [
            "100\n"
          ],
          "name": "stdout"
        }
      ]
    },
    {
      "cell_type": "code",
      "metadata": {
        "id": "ekbeLM5rphBy",
        "colab_type": "code",
        "colab": {
          "base_uri": "https://localhost:8080/",
          "height": 595
        },
        "outputId": "69409440-0247-4df3-99ea-257fb1aab411"
      },
      "source": [
        "all_df.info()\n",
        "all_df.head()\n",
        "all_df.ID.nunique()\n",
        "all_df.tail()"
      ],
      "execution_count": null,
      "outputs": [
        {
          "output_type": "stream",
          "text": [
            "<class 'pandas.core.frame.DataFrame'>\n",
            "RangeIndex: 100 entries, 0 to 99\n",
            "Data columns (total 4 columns):\n",
            " #   Column       Non-Null Count  Dtype         \n",
            "---  ------       --------------  -----         \n",
            " 0   ID           100 non-null    object        \n",
            " 1   Time         100 non-null    datetime64[ns]\n",
            " 2   Screen Name  100 non-null    object        \n",
            " 3   Text         100 non-null    object        \n",
            "dtypes: datetime64[ns](1), object(3)\n",
            "memory usage: 3.2+ KB\n"
          ],
          "name": "stdout"
        },
        {
          "output_type": "execute_result",
          "data": {
            "text/html": [
              "<div>\n",
              "<style scoped>\n",
              "    .dataframe tbody tr th:only-of-type {\n",
              "        vertical-align: middle;\n",
              "    }\n",
              "\n",
              "    .dataframe tbody tr th {\n",
              "        vertical-align: top;\n",
              "    }\n",
              "\n",
              "    .dataframe thead th {\n",
              "        text-align: right;\n",
              "    }\n",
              "</style>\n",
              "<table border=\"1\" class=\"dataframe\">\n",
              "  <thead>\n",
              "    <tr style=\"text-align: right;\">\n",
              "      <th></th>\n",
              "      <th>ID</th>\n",
              "      <th>Time</th>\n",
              "      <th>Screen Name</th>\n",
              "      <th>Text</th>\n",
              "    </tr>\n",
              "  </thead>\n",
              "  <tbody>\n",
              "    <tr>\n",
              "      <th>0</th>\n",
              "      <td>1270773868643393536</td>\n",
              "      <td>2020-06-10 17:44:34</td>\n",
              "      <td>valleysue</td>\n",
              "      <td>@donnyosmond @Tesla Ouch! Glad you`re ok. Kudo...</td>\n",
              "    </tr>\n",
              "    <tr>\n",
              "      <th>1</th>\n",
              "      <td>1270773841766182914</td>\n",
              "      <td>2020-06-10 17:44:28</td>\n",
              "      <td>2TermPresDT</td>\n",
              "      <td>RT @donnyosmond: My @Tesla had a messy encount...</td>\n",
              "    </tr>\n",
              "    <tr>\n",
              "      <th>2</th>\n",
              "      <td>1270773793234079747</td>\n",
              "      <td>2020-06-10 17:44:16</td>\n",
              "      <td>sturgilln</td>\n",
              "      <td>RT @GerberKawasaki: Dear @elonmusk and @Tesla ...</td>\n",
              "    </tr>\n",
              "    <tr>\n",
              "      <th>3</th>\n",
              "      <td>1270773734027276289</td>\n",
              "      <td>2020-06-10 17:44:02</td>\n",
              "      <td>geoffcarmichael</td>\n",
              "      <td>@donnyosmond @Tesla It’s handled the semitruck...</td>\n",
              "    </tr>\n",
              "    <tr>\n",
              "      <th>4</th>\n",
              "      <td>1270773732429135876</td>\n",
              "      <td>2020-06-10 17:44:02</td>\n",
              "      <td>LibrarianPanduh</td>\n",
              "      <td>RT @JenniferJoyOK: @gtbynum @Tesla @elonmusk M...</td>\n",
              "    </tr>\n",
              "  </tbody>\n",
              "</table>\n",
              "</div>"
            ],
            "text/plain": [
              "                    ID  ...                                               Text\n",
              "0  1270773868643393536  ...  @donnyosmond @Tesla Ouch! Glad you`re ok. Kudo...\n",
              "1  1270773841766182914  ...  RT @donnyosmond: My @Tesla had a messy encount...\n",
              "2  1270773793234079747  ...  RT @GerberKawasaki: Dear @elonmusk and @Tesla ...\n",
              "3  1270773734027276289  ...  @donnyosmond @Tesla It’s handled the semitruck...\n",
              "4  1270773732429135876  ...  RT @JenniferJoyOK: @gtbynum @Tesla @elonmusk M...\n",
              "\n",
              "[5 rows x 4 columns]"
            ]
          },
          "metadata": {
            "tags": []
          },
          "execution_count": 7
        },
        {
          "output_type": "execute_result",
          "data": {
            "text/plain": [
              "100"
            ]
          },
          "metadata": {
            "tags": []
          },
          "execution_count": 7
        },
        {
          "output_type": "execute_result",
          "data": {
            "text/html": [
              "<div>\n",
              "<style scoped>\n",
              "    .dataframe tbody tr th:only-of-type {\n",
              "        vertical-align: middle;\n",
              "    }\n",
              "\n",
              "    .dataframe tbody tr th {\n",
              "        vertical-align: top;\n",
              "    }\n",
              "\n",
              "    .dataframe thead th {\n",
              "        text-align: right;\n",
              "    }\n",
              "</style>\n",
              "<table border=\"1\" class=\"dataframe\">\n",
              "  <thead>\n",
              "    <tr style=\"text-align: right;\">\n",
              "      <th></th>\n",
              "      <th>ID</th>\n",
              "      <th>Time</th>\n",
              "      <th>Screen Name</th>\n",
              "      <th>Text</th>\n",
              "    </tr>\n",
              "  </thead>\n",
              "  <tbody>\n",
              "    <tr>\n",
              "      <th>95</th>\n",
              "      <td>1270771780647600129</td>\n",
              "      <td>2020-06-10 17:36:16</td>\n",
              "      <td>Der_Engineer</td>\n",
              "      <td>@elonmusk @elonmusk @Tesla congrats to be the ...</td>\n",
              "    </tr>\n",
              "    <tr>\n",
              "      <th>96</th>\n",
              "      <td>1270771745813860353</td>\n",
              "      <td>2020-06-10 17:36:08</td>\n",
              "      <td>jluedke67</td>\n",
              "      <td>@donnyosmond @Tesla Glad everyone is ok!</td>\n",
              "    </tr>\n",
              "    <tr>\n",
              "      <th>97</th>\n",
              "      <td>1270771720312496134</td>\n",
              "      <td>2020-06-10 17:36:02</td>\n",
              "      <td>mazzahamish</td>\n",
              "      <td>@donnyosmond @Tesla 😱😱😱</td>\n",
              "    </tr>\n",
              "    <tr>\n",
              "      <th>98</th>\n",
              "      <td>1270771705884139525</td>\n",
              "      <td>2020-06-10 17:35:59</td>\n",
              "      <td>shubham_arora_0</td>\n",
              "      <td>RT @elonmusk: @GerberKawasaki @Tesla (Formerly...</td>\n",
              "    </tr>\n",
              "    <tr>\n",
              "      <th>99</th>\n",
              "      <td>1270771703174574081</td>\n",
              "      <td>2020-06-10 17:35:58</td>\n",
              "      <td>reallytalljock1</td>\n",
              "      <td>RT @elonmusk: @GerberKawasaki @Tesla (Formerly...</td>\n",
              "    </tr>\n",
              "  </tbody>\n",
              "</table>\n",
              "</div>"
            ],
            "text/plain": [
              "                     ID  ...                                               Text\n",
              "95  1270771780647600129  ...  @elonmusk @elonmusk @Tesla congrats to be the ...\n",
              "96  1270771745813860353  ...           @donnyosmond @Tesla Glad everyone is ok!\n",
              "97  1270771720312496134  ...                            @donnyosmond @Tesla 😱😱😱\n",
              "98  1270771705884139525  ...  RT @elonmusk: @GerberKawasaki @Tesla (Formerly...\n",
              "99  1270771703174574081  ...  RT @elonmusk: @GerberKawasaki @Tesla (Formerly...\n",
              "\n",
              "[5 rows x 4 columns]"
            ]
          },
          "metadata": {
            "tags": []
          },
          "execution_count": 7
        }
      ]
    },
    {
      "cell_type": "code",
      "metadata": {
        "id": "4CYtaa1O7uCo",
        "colab_type": "code",
        "colab": {}
      },
      "source": [
        "all_df.to_csv('tesla.csv')"
      ],
      "execution_count": null,
      "outputs": []
    },
    {
      "cell_type": "code",
      "metadata": {
        "id": "zwDfk3cy78Uc",
        "colab_type": "code",
        "colab": {}
      },
      "source": [
        "from google.colab import files"
      ],
      "execution_count": null,
      "outputs": []
    },
    {
      "cell_type": "code",
      "metadata": {
        "id": "TqoyhRlk8G19",
        "colab_type": "code",
        "colab": {}
      },
      "source": [
        "files.download('tesla.csv')"
      ],
      "execution_count": null,
      "outputs": []
    }
  ]
}